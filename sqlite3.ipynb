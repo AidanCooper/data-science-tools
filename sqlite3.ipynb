{
 "cells": [
  {
   "cell_type": "markdown",
   "metadata": {},
   "source": [
    "# Background\n",
    "\n",
    "Links:\n",
    "- [Python sqlite tutorial](https://towardsdatascience.com/python-has-a-built-in-database-heres-how-to-use-it-47826c10648a)"
   ]
  },
  {
   "cell_type": "code",
   "execution_count": 1,
   "metadata": {},
   "outputs": [],
   "source": [
    "import sqlite3"
   ]
  },
  {
   "cell_type": "code",
   "execution_count": 2,
   "metadata": {},
   "outputs": [],
   "source": [
    "# Connects to `movies.db` if it exists; otherwise, creates it\n",
    "conn = sqlite3.connect('movies.db')\n",
    "c = conn.cursor()"
   ]
  },
  {
   "cell_type": "markdown",
   "metadata": {},
   "source": [
    "## Creating tables"
   ]
  },
  {
   "cell_type": "code",
   "execution_count": 3,
   "metadata": {},
   "outputs": [],
   "source": [
    "def table_exists(table_name):\n",
    "    c.execute(\n",
    "        \"\"\"\n",
    "        SELECT count(name)\n",
    "        FROM sqlite_master\n",
    "        WHERE TYPE = 'table' AND name = '{}'\n",
    "        \"\"\".format(\n",
    "            table_name\n",
    "        )\n",
    "    )\n",
    "    if c.fetchone()[0] == 1:\n",
    "        return True\n",
    "    return False"
   ]
  },
  {
   "cell_type": "code",
   "execution_count": 4,
   "metadata": {},
   "outputs": [],
   "source": [
    "if not table_exists(\"movies\"):\n",
    "    c.execute(\n",
    "        \"\"\"\n",
    "        CREATE TABLE movies (\n",
    "            movie_id INTEGER,\n",
    "            name TEXT,\n",
    "            release_year INTEGER,\n",
    "            genre TEXT,\n",
    "            rating REAL\n",
    "        )\n",
    "        \"\"\"\n",
    "    )"
   ]
  },
  {
   "cell_type": "code",
   "execution_count": 5,
   "metadata": {},
   "outputs": [
    {
     "data": {
      "text/plain": [
       "(1,)"
      ]
     },
     "execution_count": 5,
     "metadata": {},
     "output_type": "execute_result"
    }
   ],
   "source": [
    "c.execute(\n",
    "    \"\"\"\n",
    "    SELECT count(name)\n",
    "    FROM sqlite_master\n",
    "    WHERE TYPE = 'table' AND name = '{}'\n",
    "    \"\"\".format(\n",
    "        \"movies\"\n",
    "    )\n",
    ")\n",
    "c.fetchone()"
   ]
  },
  {
   "cell_type": "markdown",
   "metadata": {},
   "source": [
    "## Create, Read, Update, Delete \n",
    "\n",
    "### Create"
   ]
  },
  {
   "cell_type": "code",
   "execution_count": 6,
   "metadata": {},
   "outputs": [],
   "source": [
    "def insert_movie(movie_id, name, release_year, genre, rating):\n",
    "    c.execute(\n",
    "        \"\"\"\n",
    "        INSERT INTO movies (\n",
    "            movie_id, name, release_year, genre, rating\n",
    "        ) VALUES (\n",
    "            ?, ?, ?, ?, ?\n",
    "        )\n",
    "        \"\"\",\n",
    "        (movie_id, name, release_year, genre, rating),\n",
    "    )\n",
    "    conn.commit()"
   ]
  },
  {
   "cell_type": "code",
   "execution_count": 7,
   "metadata": {},
   "outputs": [],
   "source": [
    "insert_movie(1, 'Titanic', 1997, 'Drama', 7.8) \n",
    "insert_movie(2, 'The Day After Tomorrow', 2004, 'Action', 6.4) \n",
    "insert_movie(3, '2012', 2009, 'Action', 5.8) \n",
    "insert_movie(4, 'Men in Black', 1997, 'Action', 7.3) \n",
    "insert_movie(5, 'World War Z', 2013, 'Romance', 10)"
   ]
  },
  {
   "cell_type": "markdown",
   "metadata": {},
   "source": [
    "### Read"
   ]
  },
  {
   "cell_type": "code",
   "execution_count": 8,
   "metadata": {},
   "outputs": [],
   "source": [
    "def get_movies():\n",
    "    c.execute(\"\"\"SELECT * FROM movies\"\"\")\n",
    "    data = []\n",
    "    for row in c.fetchall():\n",
    "        data.append(row)\n",
    "    return data"
   ]
  },
  {
   "cell_type": "code",
   "execution_count": 9,
   "metadata": {},
   "outputs": [
    {
     "data": {
      "text/plain": [
       "[(1, 'Titanic', 1997, 'Drama', 7.8),\n",
       " (2, 'The Day After Tomorrow', 2004, 'Action', 6.4),\n",
       " (3, '2012', 2009, 'Action', 5.8),\n",
       " (4, 'Men in Black', 1997, 'Action', 7.3),\n",
       " (5, 'World War Z', 2013, 'Romance', 10.0)]"
      ]
     },
     "execution_count": 9,
     "metadata": {},
     "output_type": "execute_result"
    }
   ],
   "source": [
    "get_movies()"
   ]
  },
  {
   "cell_type": "code",
   "execution_count": 10,
   "metadata": {},
   "outputs": [],
   "source": [
    "def get_movie(movie_id):\n",
    "    c.execute(\n",
    "        \"\"\"\n",
    "        SELECT *\n",
    "        FROM movies\n",
    "        WHERE movie_id = {}\n",
    "        \"\"\".format(\n",
    "            movie_id\n",
    "        )\n",
    "    )\n",
    "    data = []\n",
    "    for row in c.fetchall():\n",
    "        data.append(row)\n",
    "    return data"
   ]
  },
  {
   "cell_type": "code",
   "execution_count": 11,
   "metadata": {},
   "outputs": [
    {
     "data": {
      "text/plain": [
       "[(2, 'The Day After Tomorrow', 2004, 'Action', 6.4)]"
      ]
     },
     "execution_count": 11,
     "metadata": {},
     "output_type": "execute_result"
    }
   ],
   "source": [
    "get_movie(2)"
   ]
  },
  {
   "cell_type": "markdown",
   "metadata": {},
   "source": [
    "### Update"
   ]
  },
  {
   "cell_type": "code",
   "execution_count": 12,
   "metadata": {},
   "outputs": [],
   "source": [
    "def update_movie(movie_id, update_dict):\n",
    "    valid_keys = [\"name\", \"release_year\", \"genre\", \"rating\"]\n",
    "    for key in update_dict.keys():\n",
    "        if key not in valid_keys:\n",
    "            raise Exception(\"Invalid field name!\")\n",
    "            \n",
    "    for key in update_dict.keys():\n",
    "        if type(update_dict[key]) == str:\n",
    "            stmt = \"\"\"\n",
    "                UPDATE movies\n",
    "                SET {} = '{}'\n",
    "                WHERE movie_id = {}\n",
    "            \"\"\".format(\n",
    "                key, update_dict[key], movie_id\n",
    "            )\n",
    "        else:\n",
    "            stmt = \"\"\"\n",
    "                UPDATE movies\n",
    "                SET {} = {}\n",
    "                WHERE movie_id = {}\n",
    "            \"\"\".format(\n",
    "                key, update_dict[key], movie_id\n",
    "            )\n",
    "        \n",
    "        c.execute(stmt)\n",
    "        conn.commit()"
   ]
  },
  {
   "cell_type": "code",
   "execution_count": 13,
   "metadata": {},
   "outputs": [
    {
     "name": "stdout",
     "output_type": "stream",
     "text": [
      "[(5, 'World War Z', 2013, 'Romance', 10.0)]\n",
      "[(5, 'World War Z', 2013, 'Horror', 7.0)]\n"
     ]
    }
   ],
   "source": [
    "print(get_movie(5))\n",
    "update_movie(5, {'genre': 'Horror', 'rating': 7.0})\n",
    "print(get_movie(5))"
   ]
  },
  {
   "cell_type": "markdown",
   "metadata": {},
   "source": [
    "### Delete"
   ]
  },
  {
   "cell_type": "code",
   "execution_count": 14,
   "metadata": {},
   "outputs": [],
   "source": [
    "def delete_movie(movie_id):\n",
    "    c.execute(\n",
    "        \"\"\"\n",
    "        DELETE FROM movies\n",
    "        WHERE movie_id = {}\n",
    "        \"\"\".format(\n",
    "            movie_id\n",
    "        )\n",
    "    )\n",
    "    conn.commit()"
   ]
  },
  {
   "cell_type": "code",
   "execution_count": 15,
   "metadata": {},
   "outputs": [
    {
     "data": {
      "text/plain": [
       "[(1, 'Titanic', 1997, 'Drama', 7.8),\n",
       " (2, 'The Day After Tomorrow', 2004, 'Action', 6.4),\n",
       " (4, 'Men in Black', 1997, 'Action', 7.3),\n",
       " (5, 'World War Z', 2013, 'Horror', 7.0)]"
      ]
     },
     "execution_count": 15,
     "metadata": {},
     "output_type": "execute_result"
    }
   ],
   "source": [
    "delete_movie(3)\n",
    "get_movies()"
   ]
  },
  {
   "cell_type": "code",
   "execution_count": 16,
   "metadata": {},
   "outputs": [],
   "source": [
    "for n in range(1, 6):\n",
    "    delete_movie(n)"
   ]
  },
  {
   "cell_type": "code",
   "execution_count": null,
   "metadata": {},
   "outputs": [],
   "source": []
  }
 ],
 "metadata": {
  "kernelspec": {
   "display_name": "Python 3",
   "language": "python",
   "name": "python3"
  },
  "language_info": {
   "codemirror_mode": {
    "name": "ipython",
    "version": 3
   },
   "file_extension": ".py",
   "mimetype": "text/x-python",
   "name": "python",
   "nbconvert_exporter": "python",
   "pygments_lexer": "ipython3",
   "version": "3.6.7"
  }
 },
 "nbformat": 4,
 "nbformat_minor": 2
}
